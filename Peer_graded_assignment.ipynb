{
 "cells": [
  {
   "cell_type": "markdown",
   "id": "bafd345a-2067-4739-a073-9db190f38a33",
   "metadata": {},
   "source": [
    "# My Jupyter Notebook on IBM Watson Studio"
   ]
  },
  {
   "cell_type": "markdown",
   "id": "7fc7cadb-0f67-4c72-906d-4f98e04a52ce",
   "metadata": {},
   "source": [
    "**Constance Adusei**<br>\n",
    "  Data Scientist"
   ]
  },
  {
   "cell_type": "markdown",
   "id": "520f2cb2-a7e8-445c-9bc9-56975c7c8afa",
   "metadata": {},
   "source": [
    "*I am interested in data science of its vast usage in our world today. I would to utilize data science for preventive maintenance in the process industry*"
   ]
  },
  {
   "cell_type": "markdown",
   "id": "8b7e7975-7c2d-4fe1-b343-61b94891511f",
   "metadata": {},
   "source": [
    "### Calculates the subtraction of two numbers"
   ]
  },
  {
   "cell_type": "code",
   "execution_count": 1,
   "id": "8a655c23-a79d-4aa4-853d-d0d05cc52c86",
   "metadata": {},
   "outputs": [
    {
     "data": {
      "text/plain": [
       "12"
      ]
     },
     "execution_count": 1,
     "metadata": {},
     "output_type": "execute_result"
    }
   ],
   "source": [
    "x = 7\n",
    "y = 19\n",
    "y - x"
   ]
  },
  {
   "cell_type": "markdown",
   "id": "e8a46740-989c-4844-a28c-5620266eafbc",
   "metadata": {},
   "source": [
    "Markdowns can be very different\n",
    "***\n",
    "Numberd list\n",
    "1. First item\n",
    "2. Secomd item\n",
    "***\n",
    "* Bulleted list\n",
    "***\n",
    "> This line is a blocked quote. Blocked quotes are very handy in emails\n",
    "***\n",
    "Code/syntax highlighting\n",
    "codes can be `highlighted` to show more emphasis\n",
    "***\n",
    "~strikethrough~\n",
    "***\n",
    "Tables\n",
    "| Cols 1       | Col2          | \n",
    "| -----------: |:-------------:| \n",
    "| 1            | 2 |"
   ]
  },
  {
   "cell_type": "code",
   "execution_count": null,
   "id": "7e6e20b7-71dc-4c08-951d-7ac380677506",
   "metadata": {},
   "outputs": [],
   "source": []
  }
 ],
 "metadata": {
  "kernelspec": {
   "display_name": "Python 3 (ipykernel)",
   "language": "python",
   "name": "python3"
  },
  "language_info": {
   "codemirror_mode": {
    "name": "ipython",
    "version": 3
   },
   "file_extension": ".py",
   "mimetype": "text/x-python",
   "name": "python",
   "nbconvert_exporter": "python",
   "pygments_lexer": "ipython3",
   "version": "3.8.8"
  }
 },
 "nbformat": 4,
 "nbformat_minor": 5
}
